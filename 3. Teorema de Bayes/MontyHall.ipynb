{
  "cells": [
    {
      "cell_type": "code",
      "execution_count": 1,
      "metadata": {
        "id": "BrPp0Iak0jz-"
      },
      "outputs": [],
      "source": [
        "import numpy as np\n",
        "import random\n",
        "def monty_hall(switch):\n",
        "    door_1 = 'goat'\n",
        "    door_2 = 'goat'\n",
        "    door_3 = 'car'\n",
        "    l = [door_1, door_2, door_3]\n",
        "    my_choice = random.choice(l)\n",
        "    if my_choice != door_1:\n",
        "        reveal = door_1\n",
        "    else:\n",
        "        reveal = door_2\n",
        "    if switch:\n",
        "        l.remove(reveal)\n",
        "        l.remove(my_choice)\n",
        "        return l[0]\n",
        "    else:\n",
        "        return my_choice\n",
        "def run_experiment(ntrials, switch):\n",
        "    a = []\n",
        "    for i in range(ntrials):\n",
        "        a.append(monty_hall(switch))\n",
        "    return a.count('car')/len(a)"
      ]
    },
    {
      "cell_type": "markdown",
      "metadata": {
        "id": "wX6jB7DD0uVf"
      },
      "source": [
        "## Probabilidad de ganar si no cambiamos"
      ]
    },
    {
      "cell_type": "code",
      "execution_count": 48,
      "metadata": {
        "colab": {
          "base_uri": "https://localhost:8080/"
        },
        "id": "hJJ-HolC0oVF",
        "outputId": "f767fa30-cdf3-4247-8c58-7339b38dd6a6"
      },
      "outputs": [
        {
          "name": "stdout",
          "output_type": "stream",
          "text": [
            "Probability of winning the car: 0.3341\n"
          ]
        }
      ],
      "source": [
        "p=run_experiment(10000, switch = False)\n",
        "print(f'Probability of winning the car: {p}')"
      ]
    },
    {
      "cell_type": "markdown",
      "metadata": {
        "id": "wJ2ldJxY0yF-"
      },
      "source": [
        "## Probabilidad de ganar si cambiamos"
      ]
    },
    {
      "cell_type": "code",
      "execution_count": 24,
      "metadata": {
        "colab": {
          "base_uri": "https://localhost:8080/"
        },
        "id": "oQizWNB50qqe",
        "outputId": "de35be55-06bb-48c6-e0f9-afc8fa15ccee"
      },
      "outputs": [
        {
          "name": "stdout",
          "output_type": "stream",
          "text": [
            "Probability of winning the car: 0.6704\n"
          ]
        }
      ],
      "source": [
        "p=run_experiment(10000, switch = True)\n",
        "print(f'Probability of winning the car: {p}')"
      ]
    }
  ],
  "metadata": {
    "colab": {
      "name": "2. MontyHall.ipynb",
      "provenance": []
    },
    "kernelspec": {
      "display_name": "Python 3",
      "name": "python3"
    },
    "language_info": {
      "codemirror_mode": {
        "name": "ipython",
        "version": 3
      },
      "file_extension": ".py",
      "mimetype": "text/x-python",
      "name": "python",
      "nbconvert_exporter": "python",
      "pygments_lexer": "ipython3",
      "version": "3.10.6"
    }
  },
  "nbformat": 4,
  "nbformat_minor": 0
}
