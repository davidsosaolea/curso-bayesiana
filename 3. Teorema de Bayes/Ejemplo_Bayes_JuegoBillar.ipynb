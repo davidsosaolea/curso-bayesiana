{
  "cells": [
    {
      "cell_type": "code",
      "execution_count": 3,
      "metadata": {
        "colab": {
          "base_uri": "https://localhost:8080/",
          "height": 138
        },
        "id": "iHuT0dcnTwmX",
        "outputId": "684b6aa3-7a19-41e8-a36e-122de44a1c28"
      },
      "outputs": [
        {
          "name": "stderr",
          "output_type": "stream",
          "text": [
            "No artists with labels found to put in legend.  Note that artists whose label start with an underscore are ignored when legend() is called with no argument.\n"
          ]
        },
        {
          "name": "stdout",
          "output_type": "stream",
          "text": [
            "Writing billiards1.png\n",
            "Bayesian Odd Ratio 10.000000461999754\n",
            "Bayesian Prob 0.09090908709091122\n",
            "Freq Odd Ratio 17.962962962962962\n",
            "Freq Prob 0.052734375\n"
          ]
        },
        {
          "data": {
            "text/plain": [
              "<Figure size 800x600 with 0 Axes>"
            ]
          },
          "metadata": {},
          "output_type": "display_data"
        }
      ],
      "source": [
        "# !pip install ThinkBayes2\n",
        "\n",
        "\"\"\"This file contains code used in \"Think Stats\",\n",
        "by Allen B. Downey, available from greenteapress.com\n",
        "Copyright 2015 Allen B. Downey\n",
        "License: GNU GPLv3 http://www.gnu.org/licenses/gpl.html\n",
        "\"\"\"\n",
        "\n",
        "from __future__ import print_function, division\n",
        "\n",
        "import numpy\n",
        "import thinkbayes2\n",
        "import thinkplot\n",
        "\n",
        "\n",
        "\"\"\"\n",
        "This problem presents a solution to the \"Bayesian Billiards Problem\"\n",
        "Based on the formulation in this paper:\n",
        "http://www.nature.com/nbt/journal/v22/n9/full/nbt0904-1177.html\n",
        "Of a problem originally posed by Bayes himself.\n",
        "\"\"\"\n",
        "\n",
        "class Billiards(thinkbayes2.Suite):\n",
        "\n",
        "    def Likelihood(self, data, hypo):\n",
        "        \"\"\"Computes the likelihood of the data under the hypothesis.\n",
        "        data: tuple (#wins, #losses)\n",
        "        hypo: float probability of win\n",
        "        \"\"\"\n",
        "        p = hypo\n",
        "        win, lose = data\n",
        "        like = p**win * (1-p)**lose\n",
        "        return like\n",
        "\n",
        "\n",
        "def ProbWinMatch(pmf):\n",
        "    total = 0\n",
        "    for p, prob in pmf.Items():\n",
        "        total += prob * (1-p)**3\n",
        "    return total\n",
        "\n",
        "\n",
        "def main():\n",
        "    ps = numpy.linspace(0, 1, 101)\n",
        "    bill = Billiards(ps)\n",
        "    bill.Update((5, 3))\n",
        "    thinkplot.Pdf(bill)\n",
        "    thinkplot.Save(root='billiards1',\n",
        "                   xlabel='probability of win',\n",
        "                   ylabel='PDF',\n",
        "                   formats=['png'])\n",
        "\n",
        "    bayes_result = ProbWinMatch(bill)\n",
        "    print('Bayesian Odd Ratio',thinkbayes2.Odds(1-bayes_result))\n",
        "    print('Bayesian Prob',bayes_result)\n",
        "    \n",
        "    \n",
        "    mle = 5 / 8\n",
        "    freq_result = (1-mle)**3\n",
        "    print('Freq Odd Ratio',thinkbayes2.Odds(1-freq_result))\n",
        "    print('Freq Prob',freq_result)\n",
        "\n",
        "    \n",
        "if __name__ == '__main__':\n",
        "    main()"
      ]
    },
    {
      "cell_type": "code",
      "execution_count": 20,
      "metadata": {
        "colab": {
          "base_uri": "https://localhost:8080/"
        },
        "id": "ttjCfC7dYX0a",
        "outputId": "4fcbcb75-6386-448e-8b63-d754692b6600"
      },
      "outputs": [
        {
          "name": "stdout",
          "output_type": "stream",
          "text": [
            "Number of suitable games: 10991\n",
            "Number of these games Bob won: 1023\n",
            "Monte Carlo Probability of Bob winning: 0.09\n",
            "MC Odds against Bob winning: 10 to 1\n"
          ]
        }
      ],
      "source": [
        "# Another way, using Monte Carlo simulations:\n",
        "\n",
        "import numpy as np\n",
        "#np.random.seed(0)\n",
        "\n",
        "# play 100000 games with randomly-drawn p, between 0 and 1\n",
        "p = np.random.random(100000)\n",
        "\n",
        "# each game needs at most 11 rolls for one player to reach 6 wins\n",
        "rolls = np.random.random((11, len(p)))\n",
        "\n",
        "# count the cumulative wins for Alice and Bob at each roll\n",
        "Alice_count = np.cumsum(rolls < p, 0)\n",
        "Bob_count = np.cumsum(rolls >= p, 0)\n",
        "\n",
        "# sanity check: total number of wins should equal number of rolls\n",
        "total_wins = Alice_count + Bob_count\n",
        "assert np.all(total_wins.T == np.arange(1, 12))\n",
        "\n",
        "# determine number of games which meet our criterion of (A wins, B wins)=(5, 3)\n",
        "# this means Bob's win count at eight rolls must equal 3\n",
        "good_games = Bob_count[7] == 3\n",
        "print(\"Number of suitable games: {0}\".format(good_games.sum()))\n",
        "\n",
        "# truncate our results to consider only these games\n",
        "Alice_count = Alice_count[:, good_games]\n",
        "Bob_count = Bob_count[:, good_games]\n",
        "\n",
        "# determine which of these games Bob won.\n",
        "# to win, he must reach six wins after 11 rolls.\n",
        "bob_won = np.sum(Bob_count[10] == 6)\n",
        "print(\"Number of these games Bob won: {0}\".format(bob_won.sum()))\n",
        "\n",
        "# compute the probability\n",
        "mc_prob = bob_won.sum() * 1. / good_games.sum()\n",
        "print(\"Monte Carlo Probability of Bob winning: {0:.2f}\".format(mc_prob))\n",
        "print(\"MC Odds against Bob winning: {0:.0f} to 1\".format((1. - mc_prob) / mc_prob))"
      ]
    },
    {
      "cell_type": "code",
      "execution_count": 21,
      "metadata": {
        "id": "7FgqUgahYwRz"
      },
      "outputs": [],
      "source": [
        "#Running m repetitions and reporting in figure:\n",
        "import matplotlib.pyplot as plt\n",
        "\n",
        "def AliceBobGame(m):\n",
        "  mc_prob_vector=np.zeros(m)\n",
        "  for i in range(m):     \n",
        "    p = np.random.random(100000)\n",
        "    rolls = np.random.random((11, len(p)))\n",
        "    Alice_count = np.cumsum(rolls < p, 0)\n",
        "    Bob_count = np.cumsum(rolls >= p, 0)\n",
        "    total_wins = Alice_count + Bob_count\n",
        "    assert np.all(total_wins.T == np.arange(1, 12))\n",
        "    good_games = Bob_count[7] == 3\n",
        "    Alice_count = Alice_count[:, good_games]\n",
        "    Bob_count = Bob_count[:, good_games]\n",
        "    bob_won = np.sum(Bob_count[10] == 6)\n",
        "    # compute the probability\n",
        "    mc_prob_vector[i] = bob_won.sum() * 1. / good_games.sum()\n",
        "\n",
        "  x=range(m)\n",
        "  plt.ylim(0, 1)\n",
        "  plt.plot(x,mc_prob_vector)\n",
        "  plt.ylabel('Probability of Bob winning')\n",
        "  plt.show()\n",
        "  \n",
        "  return mc_prob_vector\n"
      ]
    },
    {
      "cell_type": "code",
      "execution_count": 22,
      "metadata": {
        "colab": {
          "base_uri": "https://localhost:8080/",
          "height": 580
        },
        "id": "20Ne6nAgeETa",
        "outputId": "687e8c0b-b629-46fc-8243-c842ce9dc37e"
      },
      "outputs": [
        {
          "data": {
            "image/png": "[encoded data removed]",
            "text/plain": [
              "<Figure size 640x480 with 1 Axes>"
            ]
          },
          "metadata": {},
          "output_type": "display_data"
        },
        {
          "name": "stdout",
          "output_type": "stream",
          "text": [
            "[0.08726625 0.09000362 0.08877917 0.08560242 0.09248242 0.09452915\n",
            " 0.09352518 0.09023842 0.09100808 0.08946862 0.08838044 0.09152573\n",
            " 0.09321733 0.08901099 0.08854306 0.08991506 0.0878141  0.0905657\n",
            " 0.08588246 0.09575527 0.09497758 0.09047231 0.09143381 0.09091727\n",
            " 0.09344009 0.09627497 0.09255223 0.09339286 0.08799712 0.09426156\n",
            " 0.0912649  0.09860684 0.09472091 0.09339732 0.09578682 0.09055297\n",
            " 0.08991287 0.09293646 0.09170775 0.09117039 0.08858681 0.09087676\n",
            " 0.0932563  0.08743465 0.09114306 0.08939007 0.09161547 0.09162588\n",
            " 0.09104772 0.09221311 0.09286228 0.09426376 0.09192547 0.08495431\n",
            " 0.08681961 0.09100827 0.09152233 0.09157609 0.08876585 0.09442559\n",
            " 0.09134961 0.08976449 0.08537585 0.08925843 0.08609392 0.09180298\n",
            " 0.08723558 0.09124549 0.09241748 0.089456   0.0921029  0.09070894\n",
            " 0.08948081 0.08672136 0.08772409 0.08922881 0.09297707 0.0878862\n",
            " 0.08883521 0.08702304 0.09134485 0.09341515 0.08989271 0.09081197\n",
            " 0.09426601 0.08901808 0.09497007 0.09206119 0.08667212 0.09285523\n",
            " 0.09416385 0.08761767 0.08971238 0.09053276 0.09202233 0.08960157\n",
            " 0.09056982 0.08913063 0.0877956  0.09216673]\n",
            "Mean 0.09079912815147045\n"
          ]
        }
      ],
      "source": [
        "# 100 repetitions\n",
        "mc_prob_vector=AliceBobGame(100)\n",
        "print(mc_prob_vector)\n",
        "print('Mean',np.mean(mc_prob_vector))"
      ]
    },
    {
      "cell_type": "code",
      "execution_count": 23,
      "metadata": {
        "colab": {
          "base_uri": "https://localhost:8080/",
          "height": 286
        },
        "id": "I1y53987eUG_",
        "outputId": "901e01de-6dd0-4e81-e61e-5d031693ecb3"
      },
      "outputs": [
        {
          "data": {
            "image/png": "[encoded data removed]",
            "text/plain": [
              "<Figure size 640x480 with 1 Axes>"
            ]
          },
          "metadata": {},
          "output_type": "display_data"
        },
        {
          "name": "stdout",
          "output_type": "stream",
          "text": [
            "Mean 0.090931174463036\n"
          ]
        }
      ],
      "source": [
        "# 10000 repetitions (this will take longer)\n",
        "mc_prob_vector2=AliceBobGame(10000)\n",
        "print('Mean',np.mean(mc_prob_vector2))"
      ]
    }
  ],
  "metadata": {
    "colab": {
      "name": "1.Ejemplo_Bayes_JuegoBillar.ipynb",
      "provenance": []
    },
    "kernelspec": {
      "display_name": "Python 3",
      "name": "python3"
    },
    "language_info": {
      "codemirror_mode": {
        "name": "ipython",
        "version": 3
      },
      "file_extension": ".py",
      "mimetype": "text/x-python",
      "name": "python",
      "nbconvert_exporter": "python",
      "pygments_lexer": "ipython3",
      "version": "3.10.6"
    }
  },
  "nbformat": 4,
  "nbformat_minor": 0
}
