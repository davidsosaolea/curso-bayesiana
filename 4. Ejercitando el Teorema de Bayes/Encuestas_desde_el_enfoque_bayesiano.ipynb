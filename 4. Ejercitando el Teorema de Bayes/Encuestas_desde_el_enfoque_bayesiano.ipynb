{
  "cells": [
    {
      "cell_type": "code",
      "execution_count": 1,
      "metadata": {
        "colab": {
          "base_uri": "https://localhost:8080/"
        },
        "id": "7-CUH92uUuyo",
        "outputId": "23ed5f89-da01-4831-cf02-091d7fb2ce3b"
      },
      "outputs": [
        {
          "name": "stdout",
          "output_type": "stream",
          "text": [
            "Requirement already satisfied: thinkbayes2 in /home/bbchanchis/curso-bayesiana/venv/lib/python3.10/site-packages (2.0.0)\n"
          ]
        }
      ],
      "source": [
        "!pip install thinkbayes2"
      ]
    },
    {
      "cell_type": "code",
      "execution_count": 2,
      "metadata": {
        "colab": {
          "base_uri": "https://localhost:8080/",
          "height": 173
        },
        "id": "SEc3aQiTUjJ2",
        "outputId": "c07c72d5-e97e-4a26-e6c6-0faf0a56523d"
      },
      "outputs": [
        {
          "name": "stdout",
          "output_type": "stream",
          "text": [
            "Writing electorate1.png\n",
            "51.900000000000006\n",
            "3.700000000000001\n",
            "0.25764103847667613\n",
            "Writing electorate2.png\n",
            "51.630688524590155\n",
            "2.746854534930012\n",
            "0.21769127902499535\n"
          ]
        },
        {
          "data": {
            "text/plain": [
              "<Figure size 800x600 with 0 Axes>"
            ]
          },
          "metadata": {},
          "output_type": "display_data"
        }
      ],
      "source": [
        "\"\"\"This file contains code for use with \"Think Bayes\",\n",
        "by Allen B. Downey, available from greenteapress.com\n",
        "Copyright 2014 Allen B. Downey\n",
        "License: GNU GPLv3 http://www.gnu.org/licenses/gpl.html\n",
        "\"\"\"\n",
        "\n",
        "from __future__ import print_function, division\n",
        "\n",
        "import numpy\n",
        "import thinkbayes2\n",
        "import thinkplot\n",
        "\n",
        "\n",
        "class Electorate(thinkbayes2.Suite):\n",
        "    \"\"\"Represents hypotheses about the state of the electorate.\"\"\"\n",
        "\n",
        "    def Likelihood(self, data, hypo):\n",
        "        \"\"\"Computes the likelihood of the data under the hypothesis.\n",
        "        hypo: fraction of the population that supports your candidate\n",
        "        data: poll results\n",
        "        \"\"\"\n",
        "        bias, std, result = data\n",
        "        error = result - hypo\n",
        "        like = thinkbayes2.EvalNormalPdf(error, bias, std)\n",
        "        return like\n",
        "\n",
        "\n",
        "def main():\n",
        "    hypos = range(0, 101)\n",
        "    suite = Electorate(hypos)\n",
        "\n",
        "    thinkplot.PrePlot(3)\n",
        "    thinkplot.Pdf(suite, label='prior')\n",
        "\n",
        "    data = 1.1, 3.7, 53\n",
        "    suite.Update(data)\n",
        "    thinkplot.Pdf(suite, label='posterior1')\n",
        "    thinkplot.Save(root='electorate1',\n",
        "                   xlabel='percentage of electorate',\n",
        "                   ylabel='PMF',\n",
        "                   formats=['png'],\n",
        "                   clf=False)\n",
        "\n",
        "    print(suite.Mean())\n",
        "    print(suite.Std())\n",
        "    print(suite.ProbLess(50))\n",
        "\n",
        "    data = -2.3, 4.1, 49\n",
        "    suite.Update(data)\n",
        "\n",
        "    thinkplot.Pdf(suite, label='posterior2')\n",
        "    thinkplot.Save(root='electorate2',\n",
        "                   xlabel='percentage of electorate',\n",
        "                   ylabel='PMF',\n",
        "                   formats=['png'])\n",
        "\n",
        "    print(suite.Mean())\n",
        "    print(suite.Std())\n",
        "    print(suite.ProbLess(50))\n",
        "\n",
        "\n",
        "if __name__ == '__main__':\n",
        "    main()\n"
      ]
    }
  ],
  "metadata": {
    "colab": {
      "name": "Encuestas desde el enfoque bayesiano.ipynb",
      "provenance": []
    },
    "kernelspec": {
      "display_name": "Python 3",
      "name": "python3"
    },
    "language_info": {
      "codemirror_mode": {
        "name": "ipython",
        "version": 3
      },
      "file_extension": ".py",
      "mimetype": "text/x-python",
      "name": "python",
      "nbconvert_exporter": "python",
      "pygments_lexer": "ipython3",
      "version": "3.10.6"
    }
  },
  "nbformat": 4,
  "nbformat_minor": 0
}
