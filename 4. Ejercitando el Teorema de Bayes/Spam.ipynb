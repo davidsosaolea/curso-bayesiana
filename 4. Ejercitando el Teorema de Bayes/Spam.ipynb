{
  "cells": [
    {
      "cell_type": "markdown",
      "metadata": {
        "id": "tlvTGFWsELuL"
      },
      "source": [
        "Dataset https://www.kaggle.com/uciml/sms-spam-collection-dataset"
      ]
    },
    {
      "cell_type": "code",
      "execution_count": 55,
      "metadata": {
        "id": "RTd4uodpESyD"
      },
      "outputs": [],
      "source": [
        "import numpy as np\n",
        "import pandas as pd"
      ]
    },
    {
      "cell_type": "code",
      "execution_count": 56,
      "metadata": {
        "colab": {
          "base_uri": "https://localhost:8080/",
          "height": 143
        },
        "id": "7EI8nKsuD26L",
        "outputId": "fad18d52-cca7-4823-f717-381ea1b82f24"
      },
      "outputs": [
        {
          "data": {
            "text/html": [
              "<div>\n",
              "<style scoped>\n",
              "    .dataframe tbody tr th:only-of-type {\n",
              "        vertical-align: middle;\n",
              "    }\n",
              "\n",
              "    .dataframe tbody tr th {\n",
              "        vertical-align: top;\n",
              "    }\n",
              "\n",
              "    .dataframe thead th {\n",
              "        text-align: right;\n",
              "    }\n",
              "</style>\n",
              "<table border=\"1\" class=\"dataframe\">\n",
              "  <thead>\n",
              "    <tr style=\"text-align: right;\">\n",
              "      <th></th>\n",
              "      <th>v1</th>\n",
              "      <th>v2</th>\n",
              "      <th>Unnamed: 2</th>\n",
              "      <th>Unnamed: 3</th>\n",
              "      <th>Unnamed: 4</th>\n",
              "    </tr>\n",
              "  </thead>\n",
              "  <tbody>\n",
              "    <tr>\n",
              "      <th>0</th>\n",
              "      <td>ham</td>\n",
              "      <td>Go until jurong point, crazy.. Available only ...</td>\n",
              "      <td>NaN</td>\n",
              "      <td>NaN</td>\n",
              "      <td>NaN</td>\n",
              "    </tr>\n",
              "    <tr>\n",
              "      <th>1</th>\n",
              "      <td>ham</td>\n",
              "      <td>Ok lar... Joking wif u oni...</td>\n",
              "      <td>NaN</td>\n",
              "      <td>NaN</td>\n",
              "      <td>NaN</td>\n",
              "    </tr>\n",
              "    <tr>\n",
              "      <th>2</th>\n",
              "      <td>spam</td>\n",
              "      <td>Free entry in 2 a wkly comp to win FA Cup fina...</td>\n",
              "      <td>NaN</td>\n",
              "      <td>NaN</td>\n",
              "      <td>NaN</td>\n",
              "    </tr>\n",
              "  </tbody>\n",
              "</table>\n",
              "</div>"
            ],
            "text/plain": [
              "     v1                                                 v2 Unnamed: 2  \\\n",
              "0   ham  Go until jurong point, crazy.. Available only ...        NaN   \n",
              "1   ham                      Ok lar... Joking wif u oni...        NaN   \n",
              "2  spam  Free entry in 2 a wkly comp to win FA Cup fina...        NaN   \n",
              "\n",
              "  Unnamed: 3 Unnamed: 4  \n",
              "0        NaN        NaN  \n",
              "1        NaN        NaN  \n",
              "2        NaN        NaN  "
            ]
          },
          "execution_count": 56,
          "metadata": {},
          "output_type": "execute_result"
        }
      ],
      "source": [
        "# Cargamos los datos\n",
        "df = pd.read_csv('spam.csv', encoding='ISO-8859-1')\n",
        "df.head(3)"
      ]
    },
    {
      "cell_type": "code",
      "execution_count": 57,
      "metadata": {
        "colab": {
          "base_uri": "https://localhost:8080/",
          "height": 143
        },
        "id": "TfE-1CmHEIwg",
        "outputId": "1d83b29d-859f-4362-aec8-f5998d107739"
      },
      "outputs": [
        {
          "data": {
            "text/html": [
              "<div>\n",
              "<style scoped>\n",
              "    .dataframe tbody tr th:only-of-type {\n",
              "        vertical-align: middle;\n",
              "    }\n",
              "\n",
              "    .dataframe tbody tr th {\n",
              "        vertical-align: top;\n",
              "    }\n",
              "\n",
              "    .dataframe thead th {\n",
              "        text-align: right;\n",
              "    }\n",
              "</style>\n",
              "<table border=\"1\" class=\"dataframe\">\n",
              "  <thead>\n",
              "    <tr style=\"text-align: right;\">\n",
              "      <th></th>\n",
              "      <th>v1</th>\n",
              "      <th>v2</th>\n",
              "      <th>Unnamed: 2</th>\n",
              "      <th>Unnamed: 3</th>\n",
              "      <th>Unnamed: 4</th>\n",
              "      <th>sms</th>\n",
              "      <th>spam</th>\n",
              "    </tr>\n",
              "  </thead>\n",
              "  <tbody>\n",
              "    <tr>\n",
              "      <th>0</th>\n",
              "      <td>ham</td>\n",
              "      <td>Go until jurong point, crazy.. Available only ...</td>\n",
              "      <td>NaN</td>\n",
              "      <td>NaN</td>\n",
              "      <td>NaN</td>\n",
              "      <td>Go until jurong point, crazy.. Available only ...</td>\n",
              "      <td>0</td>\n",
              "    </tr>\n",
              "    <tr>\n",
              "      <th>1</th>\n",
              "      <td>ham</td>\n",
              "      <td>Ok lar... Joking wif u oni...</td>\n",
              "      <td>NaN</td>\n",
              "      <td>NaN</td>\n",
              "      <td>NaN</td>\n",
              "      <td>Ok lar... Joking wif u oni...</td>\n",
              "      <td>0</td>\n",
              "    </tr>\n",
              "    <tr>\n",
              "      <th>2</th>\n",
              "      <td>spam</td>\n",
              "      <td>Free entry in 2 a wkly comp to win FA Cup fina...</td>\n",
              "      <td>NaN</td>\n",
              "      <td>NaN</td>\n",
              "      <td>NaN</td>\n",
              "      <td>Free entry in 2 a wkly comp to win FA Cup fina...</td>\n",
              "      <td>1</td>\n",
              "    </tr>\n",
              "  </tbody>\n",
              "</table>\n",
              "</div>"
            ],
            "text/plain": [
              "     v1                                                 v2 Unnamed: 2  \\\n",
              "0   ham  Go until jurong point, crazy.. Available only ...        NaN   \n",
              "1   ham                      Ok lar... Joking wif u oni...        NaN   \n",
              "2  spam  Free entry in 2 a wkly comp to win FA Cup fina...        NaN   \n",
              "\n",
              "  Unnamed: 3 Unnamed: 4                                                sms  \\\n",
              "0        NaN        NaN  Go until jurong point, crazy.. Available only ...   \n",
              "1        NaN        NaN                      Ok lar... Joking wif u oni...   \n",
              "2        NaN        NaN  Free entry in 2 a wkly comp to win FA Cup fina...   \n",
              "\n",
              "   spam  \n",
              "0     0  \n",
              "1     0  \n",
              "2     1  "
            ]
          },
          "execution_count": 57,
          "metadata": {},
          "output_type": "execute_result"
        }
      ],
      "source": [
        "# Reestructuramos el dataset\n",
        "df['sms'] = df['v2']\n",
        "df['spam'] = np.where(df['v1'] == 'spam', 1, 0)\n",
        "df.head(3)"
      ]
    },
    {
      "cell_type": "code",
      "execution_count": 58,
      "metadata": {
        "colab": {
          "base_uri": "https://localhost:8080/",
          "height": 205
        },
        "id": "8C3jk397EapE",
        "outputId": "26dd9d3e-5859-4082-e693-89ede5811dfa"
      },
      "outputs": [
        {
          "data": {
            "text/html": [
              "<div>\n",
              "<style scoped>\n",
              "    .dataframe tbody tr th:only-of-type {\n",
              "        vertical-align: middle;\n",
              "    }\n",
              "\n",
              "    .dataframe tbody tr th {\n",
              "        vertical-align: top;\n",
              "    }\n",
              "\n",
              "    .dataframe thead th {\n",
              "        text-align: right;\n",
              "    }\n",
              "</style>\n",
              "<table border=\"1\" class=\"dataframe\">\n",
              "  <thead>\n",
              "    <tr style=\"text-align: right;\">\n",
              "      <th></th>\n",
              "      <th>sms</th>\n",
              "      <th>spam</th>\n",
              "    </tr>\n",
              "  </thead>\n",
              "  <tbody>\n",
              "    <tr>\n",
              "      <th>0</th>\n",
              "      <td>Go until jurong point, crazy.. Available only ...</td>\n",
              "      <td>0</td>\n",
              "    </tr>\n",
              "    <tr>\n",
              "      <th>1</th>\n",
              "      <td>Ok lar... Joking wif u oni...</td>\n",
              "      <td>0</td>\n",
              "    </tr>\n",
              "    <tr>\n",
              "      <th>2</th>\n",
              "      <td>Free entry in 2 a wkly comp to win FA Cup fina...</td>\n",
              "      <td>1</td>\n",
              "    </tr>\n",
              "    <tr>\n",
              "      <th>3</th>\n",
              "      <td>U dun say so early hor... U c already then say...</td>\n",
              "      <td>0</td>\n",
              "    </tr>\n",
              "    <tr>\n",
              "      <th>4</th>\n",
              "      <td>Nah I don't think he goes to usf, he lives aro...</td>\n",
              "      <td>0</td>\n",
              "    </tr>\n",
              "  </tbody>\n",
              "</table>\n",
              "</div>"
            ],
            "text/plain": [
              "                                                 sms  spam\n",
              "0  Go until jurong point, crazy.. Available only ...     0\n",
              "1                      Ok lar... Joking wif u oni...     0\n",
              "2  Free entry in 2 a wkly comp to win FA Cup fina...     1\n",
              "3  U dun say so early hor... U c already then say...     0\n",
              "4  Nah I don't think he goes to usf, he lives aro...     0"
            ]
          },
          "execution_count": 58,
          "metadata": {},
          "output_type": "execute_result"
        }
      ],
      "source": [
        "# Nos quedamos con las columnas spam y sms\n",
        "df = df[['sms','spam']]\n",
        "df.head()"
      ]
    },
    {
      "cell_type": "code",
      "execution_count": 59,
      "metadata": {
        "colab": {
          "base_uri": "https://localhost:8080/"
        },
        "id": "WLElWr3GEjqb",
        "outputId": "71f6e8f0-f94d-4863-a4ed-548887c86faf"
      },
      "outputs": [
        {
          "data": {
            "text/plain": [
              "5572"
            ]
          },
          "execution_count": 59,
          "metadata": {},
          "output_type": "execute_result"
        }
      ],
      "source": [
        "# Cantidad de sms\n",
        "len(df) "
      ]
    },
    {
      "cell_type": "code",
      "execution_count": 60,
      "metadata": {
        "colab": {
          "base_uri": "https://localhost:8080/"
        },
        "id": "AJxLTdZmElYf",
        "outputId": "885d8f36-c894-4df1-e35f-27789e6264ee"
      },
      "outputs": [
        {
          "name": "stdout",
          "output_type": "stream",
          "text": [
            "747\n",
            "4825\n"
          ]
        }
      ],
      "source": [
        "# Dividir en spam y ham (no spam)\n",
        "spam_df = df.loc[df['spam'] == 1]\n",
        "ham_df = df.loc[df['spam'] == 0]\n",
        "print(len(spam_df))\n",
        "print(len(ham_df))\n"
      ]
    },
    {
      "cell_type": "code",
      "execution_count": 61,
      "metadata": {
        "colab": {
          "base_uri": "https://localhost:8080/"
        },
        "id": "iug1cMGXE1Zg",
        "outputId": "618145f6-67d5-4a89-c9b1-a7a5a1ceb16f"
      },
      "outputs": [
        {
          "data": {
            "text/plain": [
              "{'free': 8,\n",
              " 'win': 27,\n",
              " 'text': 20,\n",
              " 'txt': 22,\n",
              " 'week': 26,\n",
              " 'send': 17,\n",
              " '50': 3,\n",
              " 'prize': 15,\n",
              " 'claim': 5,\n",
              " 'mobile': 11,\n",
              " 'cash': 4,\n",
              " '150p': 0,\n",
              " '16': 1,\n",
              " 'reply': 16,\n",
              " 'urgent': 25,\n",
              " 'won': 28,\n",
              " 'www': 29,\n",
              " 'com': 6,\n",
              " 'ur': 24,\n",
              " 'uk': 23,\n",
              " 'msg': 12,\n",
              " 'nokia': 14,\n",
              " 'new': 13,\n",
              " '18': 2,\n",
              " 'service': 18,\n",
              " 'guaranteed': 9,\n",
              " 'contact': 7,\n",
              " 'stop': 19,\n",
              " 'just': 10,\n",
              " 'tone': 21}"
            ]
          },
          "execution_count": 61,
          "metadata": {},
          "output_type": "execute_result"
        }
      ],
      "source": [
        "# Usaremos el vectorizador TfidfVectorizer de sklearn para observar algunas \n",
        "# palabras importantes en los mensajes de spam y elegir una para incorporarla \n",
        "# a nuestra fórmula:\n",
        "\n",
        "from sklearn.feature_extraction.text import TfidfVectorizer\n",
        "\n",
        "vectorizer_spam = TfidfVectorizer(stop_words='english', max_features=30)\n",
        "vectorizer_spam.fit(spam_df['sms'])\n",
        "vectorizer_spam.vocabulary_"
      ]
    },
    {
      "cell_type": "code",
      "execution_count": 70,
      "metadata": {
        "colab": {
          "base_uri": "https://localhost:8080/"
        },
        "id": "kcUELPlYFNtW",
        "outputId": "d1f13d18-6201-43df-8ba6-0d34711add33"
      },
      "outputs": [
        {
          "name": "stdout",
          "output_type": "stream",
          "text": [
            "13.581818181818182\n"
          ]
        }
      ],
      "source": [
        "# Necesitamos elegir una palabra para usar en nuestra fórmula (win)\n",
        "\n",
        "# Calculamos P(w|s)\n",
        "\n",
        "word = 'stop'\n",
        "spam_count = 0\n",
        "spam_with_word_count = 0\n",
        "for idx,row in spam_df.iterrows():\n",
        "    spam_count += 1\n",
        "    \n",
        "    if word in row.sms:\n",
        "        spam_with_word_count += 1\n",
        "probability_of_word_given_spam = spam_count / spam_with_word_count\n",
        "print(probability_of_word_given_spam)"
      ]
    },
    {
      "cell_type": "code",
      "execution_count": 71,
      "metadata": {
        "colab": {
          "base_uri": "https://localhost:8080/"
        },
        "id": "yT3CxCZLFcm-",
        "outputId": "6fd7fa65-0cf7-4410-eefb-f3ea2c6b7c41"
      },
      "outputs": [
        {
          "name": "stdout",
          "output_type": "stream",
          "text": [
            "0.13406317300789664\n"
          ]
        }
      ],
      "source": [
        "# P(s)\n",
        "\n",
        "probability_of_spam = len(spam_df) / (len(df))\n",
        "print(probability_of_spam)"
      ]
    },
    {
      "cell_type": "code",
      "execution_count": 72,
      "metadata": {
        "colab": {
          "base_uri": "https://localhost:8080/"
        },
        "id": "MpOiMW4qFlGy",
        "outputId": "c409cbf6-5e76-4fee-ad5c-8a4a738b4b84"
      },
      "outputs": [
        {
          "name": "stdout",
          "output_type": "stream",
          "text": [
            "0.01669059583632448\n"
          ]
        }
      ],
      "source": [
        "# P(w)\n",
        "\n",
        "sms_count = 0\n",
        "word_in_sms_count = 0\n",
        "for idx,row in df.iterrows():\n",
        "    sms_count += 1\n",
        "    \n",
        "    if word in row.sms:\n",
        "        word_in_sms_count += 1\n",
        "probability_of_word = word_in_sms_count / sms_count\n",
        "print(probability_of_word)"
      ]
    },
    {
      "cell_type": "code",
      "execution_count": 73,
      "metadata": {
        "colab": {
          "base_uri": "https://localhost:8080/"
        },
        "id": "Lo74FlnQFrjy",
        "outputId": "f8819937-8d19-41cb-b084-927e0f6d3644"
      },
      "outputs": [
        {
          "data": {
            "text/plain": [
              "109.09266862170088"
            ]
          },
          "execution_count": 73,
          "metadata": {},
          "output_type": "execute_result"
        }
      ],
      "source": [
        "# Resultado P(s|w)\n",
        "\n",
        "(probability_of_word_given_spam * probability_of_spam) / probability_of_word"
      ]
    },
    {
      "cell_type": "markdown",
      "metadata": {
        "id": "Bj94QC1DF1Pw"
      },
      "source": [
        "Lo que esto nos dice es que si un SMS contiene la palabra \"win\" (ganar), hay un 69% de probabilidad de que el mensaje sea spam."
      ]
    }
  ],
  "metadata": {
    "colab": {
      "name": "Spam.ipynb",
      "provenance": []
    },
    "kernelspec": {
      "display_name": "Python 3",
      "name": "python3"
    },
    "language_info": {
      "codemirror_mode": {
        "name": "ipython",
        "version": 3
      },
      "file_extension": ".py",
      "mimetype": "text/x-python",
      "name": "python",
      "nbconvert_exporter": "python",
      "pygments_lexer": "ipython3",
      "version": "3.10.6"
    }
  },
  "nbformat": 4,
  "nbformat_minor": 0
}
