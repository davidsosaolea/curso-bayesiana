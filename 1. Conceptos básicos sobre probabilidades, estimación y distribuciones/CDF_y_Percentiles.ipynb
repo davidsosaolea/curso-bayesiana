{
  "cells": [
    {
      "cell_type": "code",
      "execution_count": 4,
      "metadata": {
        "id": "wpEJTBL9dvOK"
      },
      "outputs": [],
      "source": [
        "import numpy as np\n",
        "import matplotlib.pyplot as plt\n",
        "import random\n",
        "from scipy.stats import norm"
      ]
    },
    {
      "cell_type": "code",
      "execution_count": 5,
      "metadata": {
        "id": "LlZmRVIEd-e1"
      },
      "outputs": [],
      "source": [
        "mu=170\n",
        "sd=7"
      ]
    },
    {
      "cell_type": "code",
      "execution_count": 6,
      "metadata": {
        "colab": {
          "base_uri": "https://localhost:8080/"
        },
        "id": "oTXWBAVgeCSR",
        "outputId": "c534477b-5e89-4f55-fb22-dbfd7d04c762"
      },
      "outputs": [
        {
          "data": {
            "text/plain": [
              "array([162.37167753, 174.27253237, 169.89011224, 163.69714919,\n",
              "       172.42563823, 180.78126694, 176.08545919, 169.36926143,\n",
              "       168.80229432, 167.18624267, 162.31156677, 167.0452924 ,\n",
              "       171.88428787, 173.89239003, 171.06601315, 158.19562761,\n",
              "       172.85540228, 162.4470299 , 170.69740029, 175.66422731,\n",
              "       177.22270442, 175.81107998, 164.66000036, 170.02269273,\n",
              "       170.03648267, 176.88377748, 162.21832915, 166.74944857,\n",
              "       172.85183494, 169.66434401, 172.12836924, 164.67703473,\n",
              "       179.21972404, 160.57671722, 182.98875207, 158.10129603,\n",
              "       175.00420833, 172.72631398, 167.3226035 , 176.80311336,\n",
              "       163.05328874, 165.30318187, 166.64990128, 172.97185606,\n",
              "       156.77685435, 173.09589873, 175.37713982, 165.26325406,\n",
              "       165.63561289, 169.88998033, 179.75246139, 166.52277665,\n",
              "       158.53696681, 169.61521378, 170.84158917, 163.51035243,\n",
              "       157.52674509, 171.03094222, 167.21917194, 174.05546987,\n",
              "       159.77388907, 157.36236362, 163.18113007, 171.9076539 ,\n",
              "       157.70727631, 167.28859082, 165.75883179, 190.11863408,\n",
              "       166.10772071, 179.0891935 , 170.11133409, 162.97088005,\n",
              "       170.73502168, 170.78006765, 169.37746676, 172.95656871,\n",
              "       170.92160957, 178.5972253 , 166.20730515, 164.5437197 ,\n",
              "       161.39065379, 178.00058982, 175.39913115, 173.37596582,\n",
              "       177.04300158, 172.6200456 , 156.05694406, 164.89805443,\n",
              "       171.10912524, 183.21689298, 169.47777208, 169.6334774 ,\n",
              "       168.08208572, 154.54979334, 167.93882099, 168.06196364,\n",
              "       177.17033536, 164.07129931, 177.20532664, 174.58036808])"
            ]
          },
          "execution_count": 6,
          "metadata": {},
          "output_type": "execute_result"
        }
      ],
      "source": [
        "# Generar datos de una Normal(170,7^2)\n",
        "x=norm.rvs(loc=mu, scale=sd, size=100)\n",
        "x"
      ]
    },
    {
      "cell_type": "code",
      "execution_count": 7,
      "metadata": {
        "colab": {
          "base_uri": "https://localhost:8080/",
          "height": 265
        },
        "id": "UN0Nmba4gNUq",
        "outputId": "73fd132e-7b0a-49c1-8bba-0c0948564d47"
      },
      "outputs": [
        {
          "data": {
            "image/png": "[encoded data removed]",
            "text/plain": [
              "<Figure size 640x480 with 1 Axes>"
            ]
          },
          "metadata": {},
          "output_type": "display_data"
        }
      ],
      "source": [
        "plt.hist(x);"
      ]
    },
    {
      "cell_type": "code",
      "execution_count": 8,
      "metadata": {
        "colab": {
          "base_uri": "https://localhost:8080/"
        },
        "id": "Hcnd8Sk0eMt9",
        "outputId": "8f165bf0-4bef-4dc5-b42d-50d9ed55d7e7"
      },
      "outputs": [
        {
          "data": {
            "text/plain": [
              "169.3861648557294"
            ]
          },
          "execution_count": 8,
          "metadata": {},
          "output_type": "execute_result"
        }
      ],
      "source": [
        "# Media MLE\n",
        "x.mean()"
      ]
    },
    {
      "cell_type": "code",
      "execution_count": 9,
      "metadata": {
        "colab": {
          "base_uri": "https://localhost:8080/"
        },
        "id": "kLhJbIQVfTT6",
        "outputId": "ad8fda41-e988-43ba-8fec-ae3ff1c3857a"
      },
      "outputs": [
        {
          "data": {
            "text/plain": [
              "44.376700649835705"
            ]
          },
          "execution_count": 9,
          "metadata": {},
          "output_type": "execute_result"
        }
      ],
      "source": [
        "# Varianza MLE\n",
        "x.var()"
      ]
    },
    {
      "cell_type": "code",
      "execution_count": 10,
      "metadata": {
        "colab": {
          "base_uri": "https://localhost:8080/"
        },
        "id": "ASZmfqAQfY-F",
        "outputId": "82f22a42-d399-4a08-877c-64d00327894c"
      },
      "outputs": [
        {
          "data": {
            "text/plain": [
              "6.661583944516177"
            ]
          },
          "execution_count": 10,
          "metadata": {},
          "output_type": "execute_result"
        }
      ],
      "source": [
        "# Desviacion tipica MLE\n",
        "x.std()"
      ]
    },
    {
      "cell_type": "code",
      "execution_count": 11,
      "metadata": {
        "colab": {
          "base_uri": "https://localhost:8080/"
        },
        "id": "bJdCBRZZfdjz",
        "outputId": "40169ca8-e27e-4f3e-847a-5e8a1a2e3dd5"
      },
      "outputs": [
        {
          "data": {
            "text/plain": [
              "44.82495015134919"
            ]
          },
          "execution_count": 11,
          "metadata": {},
          "output_type": "execute_result"
        }
      ],
      "source": [
        "# Varianza insesgada (cuasivarianza)\n",
        "x.var(ddof=1)"
      ]
    },
    {
      "cell_type": "code",
      "execution_count": 12,
      "metadata": {
        "colab": {
          "base_uri": "https://localhost:8080/"
        },
        "id": "T3-3D_Gffjjb",
        "outputId": "4a862d58-f617-4e9d-d6a1-ffadabcfc1d3"
      },
      "outputs": [
        {
          "data": {
            "text/plain": [
              "6.695143773762382"
            ]
          },
          "execution_count": 12,
          "metadata": {},
          "output_type": "execute_result"
        }
      ],
      "source": [
        "# Desviacion tipica insesgada (cuasidesviacion tipica)\n",
        "x.std(ddof=1)"
      ]
    },
    {
      "cell_type": "code",
      "execution_count": 13,
      "metadata": {
        "colab": {
          "base_uri": "https://localhost:8080/"
        },
        "id": "3xrS8p5bfn04",
        "outputId": "b839af29-7d52-4f8a-ff0b-8e1117f0de69"
      },
      "outputs": [
        {
          "data": {
            "text/plain": [
              "181.5139753886603"
            ]
          },
          "execution_count": 13,
          "metadata": {},
          "output_type": "execute_result"
        }
      ],
      "source": [
        "# Qué altura tiene alguien que está en el percentil 95?\n",
        "norm.ppf(0.95, loc=mu, scale=sd)"
      ]
    },
    {
      "cell_type": "code",
      "execution_count": 14,
      "metadata": {
        "id": "wndHLnYvjxxa"
      },
      "outputs": [
        {
          "name": "stdout",
          "output_type": "stream",
          "text": [
            "\u001b[0;31mSignature:\u001b[0m \u001b[0mnorm\u001b[0m\u001b[0;34m.\u001b[0m\u001b[0mppf\u001b[0m\u001b[0;34m(\u001b[0m\u001b[0mq\u001b[0m\u001b[0;34m,\u001b[0m \u001b[0;34m*\u001b[0m\u001b[0margs\u001b[0m\u001b[0;34m,\u001b[0m \u001b[0;34m**\u001b[0m\u001b[0mkwds\u001b[0m\u001b[0;34m)\u001b[0m\u001b[0;34m\u001b[0m\u001b[0;34m\u001b[0m\u001b[0m\n",
            "\u001b[0;31mDocstring:\u001b[0m\n",
            "Percent point function (inverse of `cdf`) at q of the given RV.\n",
            "\n",
            "Parameters\n",
            "----------\n",
            "q : array_like\n",
            "    lower tail probability\n",
            "arg1, arg2, arg3,... : array_like\n",
            "    The shape parameter(s) for the distribution (see docstring of the\n",
            "    instance object for more information)\n",
            "loc : array_like, optional\n",
            "    location parameter (default=0)\n",
            "scale : array_like, optional\n",
            "    scale parameter (default=1)\n",
            "\n",
            "Returns\n",
            "-------\n",
            "x : array_like\n",
            "    quantile corresponding to the lower tail probability q.\n",
            "\u001b[0;31mFile:\u001b[0m      ~/curso-bayesiana/venv/lib/python3.10/site-packages/scipy/stats/_distn_infrastructure.py\n",
            "\u001b[0;31mType:\u001b[0m      method"
          ]
        }
      ],
      "source": [
        "norm.ppf?"
      ]
    },
    {
      "cell_type": "code",
      "execution_count": 15,
      "metadata": {
        "id": "uk1JOptQm9jV"
      },
      "outputs": [
        {
          "name": "stdout",
          "output_type": "stream",
          "text": [
            "\u001b[0;31mSignature:\u001b[0m \u001b[0mnorm\u001b[0m\u001b[0;34m.\u001b[0m\u001b[0mcdf\u001b[0m\u001b[0;34m(\u001b[0m\u001b[0mx\u001b[0m\u001b[0;34m,\u001b[0m \u001b[0;34m*\u001b[0m\u001b[0margs\u001b[0m\u001b[0;34m,\u001b[0m \u001b[0;34m**\u001b[0m\u001b[0mkwds\u001b[0m\u001b[0;34m)\u001b[0m\u001b[0;34m\u001b[0m\u001b[0;34m\u001b[0m\u001b[0m\n",
            "\u001b[0;31mDocstring:\u001b[0m\n",
            "Cumulative distribution function of the given RV.\n",
            "\n",
            "Parameters\n",
            "----------\n",
            "x : array_like\n",
            "    quantiles\n",
            "arg1, arg2, arg3,... : array_like\n",
            "    The shape parameter(s) for the distribution (see docstring of the\n",
            "    instance object for more information)\n",
            "loc : array_like, optional\n",
            "    location parameter (default=0)\n",
            "scale : array_like, optional\n",
            "    scale parameter (default=1)\n",
            "\n",
            "Returns\n",
            "-------\n",
            "cdf : ndarray\n",
            "    Cumulative distribution function evaluated at `x`\n",
            "\u001b[0;31mFile:\u001b[0m      ~/curso-bayesiana/venv/lib/python3.10/site-packages/scipy/stats/_distn_infrastructure.py\n",
            "\u001b[0;31mType:\u001b[0m      method"
          ]
        }
      ],
      "source": [
        "norm.cdf?"
      ]
    },
    {
      "cell_type": "code",
      "execution_count": 16,
      "metadata": {
        "colab": {
          "base_uri": "https://localhost:8080/"
        },
        "id": "FfFloAN9fxmi",
        "outputId": "3196091e-c0f9-4612-e2db-df8b959473c1"
      },
      "outputs": [
        {
          "data": {
            "text/plain": [
              "0.07656372550983476"
            ]
          },
          "execution_count": 16,
          "metadata": {},
          "output_type": "execute_result"
        }
      ],
      "source": [
        "# Si mides 160cm de altura, en qué percentil estás? (la probabilidad de que alguien sea más bajo que tú)\n",
        "norm.cdf(160, loc=mu, scale=sd)"
      ]
    },
    {
      "cell_type": "code",
      "execution_count": 17,
      "metadata": {
        "colab": {
          "base_uri": "https://localhost:8080/"
        },
        "id": "Torfs_eWf7wI",
        "outputId": "53eb705b-45dd-4941-c985-04a6ae322a61"
      },
      "outputs": [
        {
          "data": {
            "text/plain": [
              "0.9234362744901652"
            ]
          },
          "execution_count": 17,
          "metadata": {},
          "output_type": "execute_result"
        }
      ],
      "source": [
        "# Si mides 160cm, cuál es la probabilidad de que alguien sea más alto que tú?\n",
        "1-norm.cdf(160, loc=mu, scale=sd)"
      ]
    }
  ],
  "metadata": {
    "colab": {
      "name": "CDF y Percentiles.ipynb",
      "provenance": []
    },
    "kernelspec": {
      "display_name": "Python 3",
      "name": "python3"
    },
    "language_info": {
      "codemirror_mode": {
        "name": "ipython",
        "version": 3
      },
      "file_extension": ".py",
      "mimetype": "text/x-python",
      "name": "python",
      "nbconvert_exporter": "python",
      "pygments_lexer": "ipython3",
      "version": "3.10.6"
    }
  },
  "nbformat": 4,
  "nbformat_minor": 0
}
